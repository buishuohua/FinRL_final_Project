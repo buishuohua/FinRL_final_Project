{
 "cells": [
  {
   "cell_type": "code",
   "execution_count": 1,
   "metadata": {},
   "outputs": [],
   "source": [
    "import numpy as np\n",
    "import pandas as pd\n",
    "import random\n",
    "import os\n",
    "\n",
    "import torch\n",
    "import torch.nn as nn\n",
    "import torch.optim as optim\n",
    "import torch.nn.functional as F\n",
    "\n",
    "from stable_baselines3.common.vec_env import DummyVecEnv\n",
    "\n",
    "from env import StockLearningEnv\n",
    "import config"
   ]
  },
  {
   "cell_type": "code",
   "execution_count": 2,
   "metadata": {},
   "outputs": [],
   "source": [
    "df = pd.read_csv('./data_file/train.csv')"
   ]
  },
  {
   "cell_type": "code",
   "execution_count": 3,
   "metadata": {},
   "outputs": [
    {
     "name": "stdout",
     "output_type": "stream",
     "text": [
      "加载数据缓存\n",
      "数据缓存成功!\n"
     ]
    }
   ],
   "source": [
    "e_train_gym = StockLearningEnv(df = df, **config.ENV_PARAMS)"
   ]
  },
  {
   "cell_type": "code",
   "execution_count": 4,
   "metadata": {},
   "outputs": [],
   "source": [
    "from stable_baselines3 import DDPG\n",
    "from stable_baselines3 import A2C\n",
    "from stable_baselines3 import PPO\n",
    "from stable_baselines3 import TD3\n",
    "from stable_baselines3 import SAC\n",
    "\n",
    "import pandas as pd\n",
    "import numpy as np\n",
    "import config"
   ]
  },
  {
   "cell_type": "code",
   "execution_count": 5,
   "metadata": {},
   "outputs": [
    {
     "name": "stdout",
     "output_type": "stream",
     "text": [
      "EPISODE|STEPS|TERMINAL_REASON|CASH           |TOT_ASSETS     |TERMINAL_REWARD|GAINLOSS_PCT|RETREAT_PROPORTION\n",
      "   0| 499|update         |￥80,184        |￥2,015,551     |101.55513%|101.55513%|0.00%     \n",
      "   0| 999|update         |￥74,818        |￥2,266,390     |82.60382% |126.63903%|-44.04%   \n",
      "   0|1473|Last Date      |￥74,818        |￥2,931,466     |165.53440%|193.14664%|-27.61%   \n",
      "   1| 499|update         |￥62,195        |￥913,177       |-25.60429%|-8.68229% |-16.92%   \n",
      "   1| 999|update         |￥62,195        |￥980,319       |-14.92637%|-1.96814% |-12.96%   \n",
      "   1|1499|update         |￥62,195        |￥1,544,905     |8.85620%  |54.49048% |-45.63%   \n",
      "   1|1999|update         |￥62,195        |￥2,489,598     |136.56957%|148.95978%|-12.39%   \n",
      "   1|2178|Last Date      |￥62,195        |￥2,189,043     |95.93743% |118.90427%|-22.97%   \n",
      "   2| 499|update         |￥52,165        |￥1,795,781     |79.57808% |79.57808% |0.00%     \n",
      "   2| 999|update         |￥52,165        |￥2,118,749     |77.50583% |111.87492%|-34.37%   \n",
      "   2|1476|Last Date      |￥52,165        |￥2,676,067     |144.05074%|167.60674%|-23.56%   \n",
      "   3| 499|update         |￥52,165        |￥1,051,054     |-6.99242% |5.10539%  |-12.10%   \n",
      "   3| 999|update         |￥52,165        |￥1,803,571     |35.00128% |80.35714% |-45.36%   \n",
      "   3|1499|update         |￥52,165        |￥2,729,059     |155.59019%|172.90587%|-17.32%   \n",
      "   3|1638|Last Date      |￥52,165        |￥2,482,437     |123.45593%|148.24369%|-24.79%   \n",
      "   4| 499|update         |￥47,150        |￥762,839       |-49.55951%|-23.71608%|-25.84%   \n",
      "   4| 999|update         |￥47,150        |￥1,368,685     |36.86852% |36.86852% |0.00%     \n",
      "   4|1499|update         |￥47,150        |￥1,761,424     |40.73783% |76.14244% |-35.40%   \n",
      "   4|1992|Last Date      |￥47,150        |￥2,089,530     |85.58068% |108.95295%|-23.37%   \n",
      "   5| 499|update         |￥2,015         |￥1,221,427     |17.64658% |22.14270% |-4.50%    \n",
      "   5| 999|update         |￥2,015         |￥2,259,483     |88.44798% |125.94833%|-37.50%   \n",
      "   5|1499|update         |￥2,015         |￥2,611,929     |133.44153%|161.19287%|-27.75%   \n",
      "   5|1568|Last Date      |￥2,015         |￥2,724,305     |147.78762%|172.43051%|-24.64%   \n",
      "   6| 499|update         |￥52,165        |￥1,008,629     |-12.39492%|0.86285%  |-13.26%   \n",
      "   6| 999|update         |￥52,165        |￥963,275       |-21.72577%|-3.67248% |-18.05%   \n",
      "   6|1499|update         |￥52,165        |￥1,570,342     |10.43931% |57.03420% |-46.59%   \n",
      "   6|1999|update         |￥52,165        |￥2,384,328     |119.52036%|138.43276%|-18.91%   \n",
      "   6|2165|Last Date      |￥52,165        |￥2,264,213     |103.42395%|126.42128%|-23.00%   \n",
      "   7| 499|update         |￥7,030         |￥2,110,366     |75.81844% |111.03665%|-35.22%   \n",
      "   7| 999|update         |￥7,030         |￥2,390,240     |112.39704%|139.02399%|-26.63%   \n",
      "   7|1326|Last Date      |￥7,030         |￥2,429,848     |117.57372%|142.98482%|-25.41%   \n",
      "   8| 499|update         |￥2,015         |￥1,925,677     |56.60634% |92.56766% |-35.96%   \n",
      "   8| 999|update         |￥2,015         |￥2,557,291     |140.77229%|155.72915%|-14.96%   \n",
      "   8|1265|Last Date      |￥2,015         |￥2,241,726     |98.72160% |124.17263%|-25.45%   \n",
      "   9| 499|update         |￥2,015         |￥1,875,032     |84.01331% |87.50316% |-3.49%    \n",
      "   9| 999|update         |￥2,015         |￥2,009,932     |60.33113% |100.99318%|-40.66%   \n",
      "   9|1450|Last Date      |￥2,015         |￥2,481,250     |121.37737%|148.12499%|-26.75%   \n",
      "  10| 499|update         |￥52,165        |￥971,291       |-22.61273%|-2.87089% |-19.74%   \n",
      "  10| 999|update         |￥52,165        |￥1,192,933     |13.13152% |19.29331% |-6.16%    \n",
      "  10|1499|update         |￥52,165        |￥2,162,376     |80.36297% |116.23758%|-35.87%   \n",
      "  10|1999|update         |￥52,165        |￥2,792,038     |162.00183%|179.20377%|-17.20%   \n",
      "  10|2240|Last Date      |￥52,165        |￥2,509,670     |125.39142%|150.96700%|-25.58%   \n",
      "  11| 499|update         |￥62,195        |￥948,523       |-25.03381%|-5.14773% |-19.89%   \n",
      "  11| 999|update         |￥62,195        |￥1,686,800     |21.48547% |68.68004% |-47.19%   \n",
      "  11|1499|update         |￥62,195        |￥2,320,137     |104.64585%|132.01375%|-27.37%   \n",
      "  11|1663|Last Date      |￥62,195        |￥2,225,071     |92.16315% |122.50711%|-30.34%   \n",
      "  12| 499|update         |￥47,150        |￥1,133,426     |3.37681%  |13.34259% |-9.97%    \n",
      "  12| 999|update         |￥47,150        |￥1,539,410     |-2.88149% |53.94101% |-56.82%   \n",
      "  12|1499|update         |￥47,150        |￥2,704,370     |146.28940%|170.43701%|-24.15%   \n",
      "  12|1686|Last Date      |￥47,150        |￥2,397,328     |106.97322%|139.73278%|-32.76%   \n",
      "  13| 499|update         |￥2,015         |￥1,823,542     |44.82882% |82.35416% |-37.53%   \n",
      "  13| 999|update         |￥2,015         |￥2,511,979     |137.25845%|151.19789%|-13.94%   \n",
      "  13|1254|Last Date      |￥2,015         |￥2,192,528     |94.36892% |119.25278%|-24.88%   \n",
      "  14| 499|update         |￥22,075        |￥1,149,965     |0.29182%  |14.99647% |-14.70%   \n",
      "  14| 999|update         |￥22,075        |￥1,335,693     |32.30242% |33.56927% |-1.27%    \n",
      "  14|1499|update         |￥22,075        |￥2,097,296     |64.97648% |109.72957%|-44.75%   \n",
      "  14|1999|update         |￥22,075        |￥3,085,283     |189.80076%|208.52830%|-18.73%   \n",
      "  14|2276|Last Date      |￥22,075        |￥2,570,006     |124.69959%|157.00056%|-32.30%   \n",
      "  15| 499|update         |￥67,210        |￥1,101,984     |2.50632%  |10.19844% |-7.69%    \n",
      "  15| 999|update         |￥67,210        |￥1,698,838     |22.05166% |69.88385% |-47.83%   \n",
      "  15|1499|update         |￥67,210        |￥2,477,598     |123.84168%|147.75977%|-23.92%   \n",
      "  15|1650|Last Date      |￥67,210        |￥2,248,813     |93.93767% |124.88128%|-30.94%   \n",
      "  16| 499|update         |￥57,180        |￥1,006,991     |-13.39798%|0.69911%  |-14.10%   \n",
      "  16| 999|update         |￥57,180        |￥1,088,862     |-2.11628% |8.88616%  |-11.00%   \n",
      "  16|1499|update         |￥57,180        |￥2,000,803     |66.26353% |100.08029%|-33.82%   \n",
      "  16|1999|update         |￥57,180        |￥2,434,353     |123.95962%|143.43528%|-19.48%   \n",
      "  16|2012|Last Date      |￥57,180        |￥2,241,434     |98.28625% |124.14336%|-25.86%   \n",
      "  17| 499|update         |￥47,150        |￥1,195,112     |15.39993% |19.51116% |-4.11%    \n",
      "  17| 999|update         |￥47,150        |￥2,104,895     |74.85667% |110.48948%|-35.63%   \n",
      "  17|1499|update         |￥47,150        |￥2,668,981     |148.51488%|166.89807%|-18.38%   \n",
      "  17|1766|Last Date      |￥47,150        |￥2,350,138     |106.88044%|135.01378%|-28.13%   \n",
      "  18| 499|update         |￥77,240        |￥975,205       |-13.23479%|-2.47953% |-10.76%   \n",
      "  18| 999|update         |￥77,240        |￥2,358,851     |133.72407%|135.88508%|-2.16%    \n",
      "  18|1499|update         |￥77,240        |￥1,843,247     |48.68963% |84.32473% |-35.64%   \n",
      "  18|1897|Last Date      |￥77,240        |￥2,163,952     |91.95881% |116.39516%|-24.44%   \n",
      "  19| 499|update         |￥52,165        |￥855,773       |-32.51781%|-14.42268%|-18.10%   \n",
      "  19| 999|update         |￥52,165        |￥1,259,075     |25.90749% |25.90749% |0.00%     \n",
      "  19|1499|update         |￥52,165        |￥1,790,634     |43.30169% |79.06342% |-35.76%   \n",
      "  19|1996|Last Date      |￥52,165        |￥2,122,859     |88.44261% |112.28590%|-23.84%   \n",
      "  20| 499|update         |￥77,240        |￥1,153,882     |6.99875%  |15.38817% |-8.39%    \n",
      "  20| 999|update         |￥77,240        |￥1,874,085     |44.75305% |87.40851% |-42.66%   \n",
      "  20|1499|update         |￥77,240        |￥2,828,575     |169.40816%|182.85749%|-13.45%   \n",
      "  20|1717|Last Date      |￥77,240        |￥2,310,980     |101.81093%|131.09798%|-29.29%   \n",
      "  21| 499|update         |￥52,165        |￥1,921,941     |59.72418% |92.19408% |-32.47%   \n",
      "  21| 999|update         |￥52,165        |￥2,543,593     |143.73201%|154.35929%|-10.63%   \n",
      "  21|1231|Last Date      |￥52,165        |￥2,118,709     |86.31470% |111.87088%|-25.56%   \n",
      "  22| 499|update         |￥47,039        |￥990,228       |-18.91708%|-0.97720% |-17.94%   \n",
      "  22| 999|update         |￥47,039        |￥1,194,710     |17.23338% |19.47099% |-2.24%    \n",
      "  22|1499|update         |￥47,039        |￥1,757,060     |31.88013% |75.70597% |-43.83%   \n",
      "  22|1999|update         |￥47,039        |￥2,219,673     |92.93150% |121.96733%|-29.04%   \n",
      "  22|2041|Last Date      |￥47,039        |￥2,330,410     |107.54546%|133.04098%|-25.50%   \n",
      "  23| 499|update         |￥17,060        |￥1,806,767     |73.36263% |80.67671% |-7.31%    \n",
      "  23| 999|update         |￥17,060        |￥2,047,474     |66.15349% |104.74741%|-38.59%   \n",
      "  23|1462|Last Date      |￥17,060        |￥2,560,900     |132.89432%|156.09001%|-23.20%   \n",
      "  24| 499|update         |￥52,165        |￥925,569       |-18.05104%|-7.44315% |-10.61%   \n",
      "  24| 999|update         |￥52,165        |￥1,661,025     |62.04120% |66.10252% |-4.06%    \n",
      "  24|1499|update         |￥52,165        |￥1,808,908     |45.86314% |80.89079% |-35.03%   \n",
      "  24|1965|Last Date      |￥52,165        |￥2,076,333     |82.21103% |107.63330%|-25.42%   \n",
      "  25| 499|update         |￥62,195        |￥930,448       |-21.48955%|-6.95517% |-14.53%   \n",
      "  25| 999|update         |￥62,195        |￥951,693       |-18.60795%|-4.83074% |-13.78%   \n",
      "  25|1499|update         |￥62,195        |￥1,567,296     |13.28390% |56.72962% |-43.45%   \n",
      "  25|1999|update         |￥62,195        |￥2,326,175     |116.55516%|132.61751%|-16.06%   \n",
      "  25|2130|Last Date      |￥62,195        |￥2,158,852     |93.78520% |115.88522%|-22.10%   \n",
      "  26| 499|update         |￥57,180        |￥1,115,621     |7.67014%  |11.56207% |-3.89%    \n",
      "  26| 999|update         |￥57,180        |￥1,984,525     |62.49240% |98.45255% |-35.96%   \n",
      "  26|1499|update         |￥57,180        |￥2,518,022     |133.05776%|151.80219%|-18.74%   \n",
      "  26|1747|Last Date      |￥57,180        |￥2,191,496     |89.86827% |119.14957%|-29.28%   \n",
      "  27| 499|update         |￥47,150        |￥1,010,723     |-8.50560% |1.07233%  |-9.58%    \n",
      "  27| 999|update         |￥47,150        |￥1,874,009     |49.23972% |87.40095% |-38.16%   \n",
      "  27|1499|update         |￥47,150        |￥2,252,124     |99.52820% |125.21237%|-25.68%   \n",
      "  27|1818|Last Date      |￥47,150        |￥2,164,940     |87.93291% |116.49399%|-28.56%   \n",
      "  28| 499|update         |￥62,195        |￥1,130,883     |3.14128%  |13.08827% |-9.95%    \n"
     ]
    }
   ],
   "source": [
    "episode = 50000\n",
    "model = SAC(policy='MlpPolicy', env=e_train_gym, **config.DDPG_PARAMS)\n",
    "model.learn(total_timesteps= episode)\n",
    "model.save(os.path.join('train_file', \"{}.model\".format('SAC' + str(episode))))"
   ]
  },
  {
   "cell_type": "code",
   "execution_count": 6,
   "metadata": {},
   "outputs": [
    {
     "name": "stdout",
     "output_type": "stream",
     "text": [
      "加载数据缓存\n",
      "数据缓存成功!\n"
     ]
    }
   ],
   "source": [
    "trade_df = pd.read_csv('./data_file/trade.csv')\n",
    "e_trade_gym = StockLearningEnv(df = trade_df, **config.ENV_TRADE_PARAMS)"
   ]
  },
  {
   "cell_type": "code",
   "execution_count": 8,
   "metadata": {},
   "outputs": [
    {
     "data": {
      "text/plain": [
       "<stable_baselines3.td3.td3.TD3 at 0x25238fa89a0>"
      ]
     },
     "execution_count": 8,
     "metadata": {},
     "output_type": "execute_result"
    }
   ],
   "source": [
    "episode = 50000\n",
    "model1 = A2C(policy='MlpPolicy', env=e_trade_gym, **config.A2C_PARAMS)\n",
    "model1.load(os.path.join('train_file', \"{}.model\".format('A2C' + str(episode))))\n",
    "\n",
    "model2 = DDPG(policy='MlpPolicy', env=e_trade_gym, **config.DDPG_PARAMS)\n",
    "model2.load(os.path.join('train_file', \"{}.model\".format('DDPG' + str(episode))))\n",
    "\n",
    "model3 = PPO(policy='MlpPolicy', env=e_trade_gym, **config.PPO_PARAMS)\n",
    "model3.load(os.path.join('train_file', \"{}.model\".format('PPO' + str(episode))))\n",
    "\n",
    "model4 = SAC(policy='MlpPolicy', env=e_trade_gym, **config.SAC_PARAMS)\n",
    "model4.load(os.path.join('train_file', \"{}.model\".format('SAC' + str(episode))))\n",
    "\n",
    "model5 = TD3(policy='MlpPolicy', env=e_trade_gym, **config.TD3_PARAMS)\n",
    "model5.load(os.path.join('train_file', \"{}.model\".format('TD3' + str(episode))))"
   ]
  },
  {
   "cell_type": "code",
   "execution_count": 22,
   "metadata": {},
   "outputs": [],
   "source": [
    "def ensemble_pred(models, obs):\n",
    "    actions = []\n",
    "    for model in models:\n",
    "        action, _states = model.predict(obs)\n",
    "        actions.append(action)\n",
    "    return np.mean(actions, axis=0)"
   ]
  },
  {
   "cell_type": "code",
   "execution_count": 25,
   "metadata": {},
   "outputs": [
    {
     "name": "stdout",
     "output_type": "stream",
     "text": [
      "EPISODE|STEPS|TERMINAL_REASON|CASH           |TOT_ASSETS     |TERMINAL_REWARD|GAINLOSS_PCT|RETREAT_PROPORTION\n",
      "回测完成!\n",
      "   1| 486|Last Date      |￥2,822         |￥1,947,435     |89.71180% |94.74352% |-5.03%    \n"
     ]
    }
   ],
   "source": [
    "from tqdm import tqdm\n",
    "\n",
    "test_env, test_obs = e_trade_gym.get_sb_env()\n",
    "\n",
    "models = [model1, model2, model3, model4, model5]\n",
    "test_env.reset()\n",
    "\n",
    "len_environment = len(e_trade_gym.df.index.unique())\n",
    "for i in range(len_environment):\n",
    "    action = ensemble_pred(models, test_obs)\n",
    "    test_obs, _, dones, _ = test_env.step(action)\n",
    "    if i == len_environment -2:\n",
    "        df_account = test_env.env_method(method_name=\"save_asset_memory\")[0]\n",
    "        df_action = test_env.env_method(method_name=\"save_action_memory\")[0]\n",
    "        print(\"回测完成!\")"
   ]
  },
  {
   "cell_type": "code",
   "execution_count": 28,
   "metadata": {},
   "outputs": [],
   "source": [
    "model_name = 'Ensemble'\n",
    "df_action.to_csv('./backtest/' + model_name + 'action.csv')"
   ]
  },
  {
   "cell_type": "code",
   "execution_count": 29,
   "metadata": {},
   "outputs": [],
   "source": [
    "df_account.to_csv('./backtest/' + model_name + 'account.csv')"
   ]
  },
  {
   "cell_type": "code",
   "execution_count": 2,
   "metadata": {},
   "outputs": [
    {
     "ename": "TypeError",
     "evalue": "'module' object is not callable",
     "output_type": "error",
     "traceback": [
      "\u001b[1;31m---------------------------------------------------------------------------\u001b[0m",
      "\u001b[1;31mTypeError\u001b[0m                                 Traceback (most recent call last)",
      "\u001b[1;32m~\\AppData\\Local\\Temp\\ipykernel_15700\\1464932773.py\u001b[0m in \u001b[0;36m<module>\u001b[1;34m\u001b[0m\n\u001b[0;32m      1\u001b[0m \u001b[1;32mimport\u001b[0m \u001b[0mnumpy\u001b[0m \u001b[1;32mas\u001b[0m \u001b[0mnp\u001b[0m\u001b[1;33m\u001b[0m\u001b[1;33m\u001b[0m\u001b[0m\n\u001b[1;32m----> 2\u001b[1;33m \u001b[0mA\u001b[0m \u001b[1;33m=\u001b[0m \u001b[0mnp\u001b[0m\u001b[1;33m.\u001b[0m\u001b[0mrandom\u001b[0m\u001b[1;33m(\u001b[0m\u001b[1;36m10\u001b[0m\u001b[1;33m,\u001b[0m\u001b[1;36m3\u001b[0m\u001b[1;33m)\u001b[0m\u001b[1;33m\u001b[0m\u001b[1;33m\u001b[0m\u001b[0m\n\u001b[0m",
      "\u001b[1;31mTypeError\u001b[0m: 'module' object is not callable"
     ]
    }
   ],
   "source": [
    "import numpy as np\n",
    "A = np.random(10,3)"
   ]
  },
  {
   "cell_type": "code",
   "execution_count": null,
   "metadata": {},
   "outputs": [],
   "source": []
  }
 ],
 "metadata": {
  "kernelspec": {
   "display_name": "base",
   "language": "python",
   "name": "python3"
  },
  "language_info": {
   "codemirror_mode": {
    "name": "ipython",
    "version": 3
   },
   "file_extension": ".py",
   "mimetype": "text/x-python",
   "name": "python",
   "nbconvert_exporter": "python",
   "pygments_lexer": "ipython3",
   "version": "3.9.15 (main, Nov 24 2022, 14:39:17) [MSC v.1916 64 bit (AMD64)]"
  },
  "orig_nbformat": 4,
  "vscode": {
   "interpreter": {
    "hash": "947c325c4eb95a9946ab668956b3cfc6d347696304b060e14630bd99381a3fa4"
   }
  }
 },
 "nbformat": 4,
 "nbformat_minor": 2
}
